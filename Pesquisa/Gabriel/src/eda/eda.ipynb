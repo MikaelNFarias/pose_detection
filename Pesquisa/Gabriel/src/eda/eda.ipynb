{
 "cells": [
  {
   "cell_type": "code",
   "execution_count": 40,
   "metadata": {},
   "outputs": [],
   "source": [
    "import pandas as pd\n",
    "import numpy as np"
   ]
  },
  {
   "cell_type": "code",
   "execution_count": 41,
   "metadata": {},
   "outputs": [],
   "source": [
    "def load_data():\n",
    "    my_data, original_data = pd.read_csv('../../data/datasets/measurements_ANSURI_female.csv',index_col=0), pd.read_csv('../../data/datasets/paper_measurements_ANSURI_female.csv',index_col=0)\n",
    "\n",
    "    # Drop the first column\n",
    "    return my_data, original_data"
   ]
  },
  {
   "cell_type": "code",
   "execution_count": 42,
   "metadata": {},
   "outputs": [],
   "source": [
    "my_measurement, original_measurement = load_data()\n",
    "waist, original_waist = my_measurement.waist_girth, original_measurement.waist_girth"
   ]
  },
  {
   "cell_type": "code",
   "execution_count": 51,
   "metadata": {},
   "outputs": [
    {
     "data": {
      "text/plain": [
       "(5.170000000000002, 0.0, 1.3352626811594204)"
      ]
     },
     "execution_count": 51,
     "metadata": {},
     "output_type": "execute_result"
    }
   ],
   "source": [
    "diff = np.abs(waist - original_waist) # diferença em valores absolutos\n",
    "diff =np.abs(waist.values - original_waist.values)\n",
    "return_data = {\"max\":np.max(diff),\"min\":np.min(diff),\"mean\":np.mean(diff)}\n",
    "return_data"
   ]
  },
  {
   "cell_type": "code",
   "execution_count": 32,
   "metadata": {},
   "outputs": [],
   "source": [
    "data = load_data()[0]\n",
    "my_dat = data.iloc[0].to_dict()\n",
    "my_dat['gender'] = \"female\"\n",
    "pd.DataFrame([my_dat]).to_csv('../../data/input_files/test.csv')\n"
   ]
  },
  {
   "cell_type": "code",
   "execution_count": 38,
   "metadata": {},
   "outputs": [
    {
     "data": {
      "text/html": [
       "<div>\n",
       "<style scoped>\n",
       "    .dataframe tbody tr th:only-of-type {\n",
       "        vertical-align: middle;\n",
       "    }\n",
       "\n",
       "    .dataframe tbody tr th {\n",
       "        vertical-align: top;\n",
       "    }\n",
       "\n",
       "    .dataframe thead th {\n",
       "        text-align: right;\n",
       "    }\n",
       "</style>\n",
       "<table border=\"1\" class=\"dataframe\">\n",
       "  <thead>\n",
       "    <tr style=\"text-align: right;\">\n",
       "      <th></th>\n",
       "      <th>weight_kg</th>\n",
       "      <th>stature_cm</th>\n",
       "      <th>neck_base_girth</th>\n",
       "      <th>chest_girth</th>\n",
       "      <th>waist_girth</th>\n",
       "      <th>hips_buttock_girth</th>\n",
       "      <th>shoulder_girth</th>\n",
       "      <th>thigh_girth</th>\n",
       "      <th>thigh_low_girth</th>\n",
       "      <th>calf_girth</th>\n",
       "      <th>...</th>\n",
       "      <th>wrist_girth</th>\n",
       "      <th>shoulder_length</th>\n",
       "      <th>sleeveoutseam_length</th>\n",
       "      <th>forearm_length</th>\n",
       "      <th>crotchheight_length</th>\n",
       "      <th>waistback_length</th>\n",
       "      <th>thigh_length</th>\n",
       "      <th>chest_depth_length</th>\n",
       "      <th>head_girth</th>\n",
       "      <th>gender</th>\n",
       "    </tr>\n",
       "  </thead>\n",
       "  <tbody>\n",
       "    <tr>\n",
       "      <th>0</th>\n",
       "      <td>81.85</td>\n",
       "      <td>164.05</td>\n",
       "      <td>40.94</td>\n",
       "      <td>112.21</td>\n",
       "      <td>98.48</td>\n",
       "      <td>103.42</td>\n",
       "      <td>113.17</td>\n",
       "      <td>62.15</td>\n",
       "      <td>41.15</td>\n",
       "      <td>39.01</td>\n",
       "      <td>...</td>\n",
       "      <td>16.44</td>\n",
       "      <td>12.44</td>\n",
       "      <td>57.24</td>\n",
       "      <td>24.44</td>\n",
       "      <td>75.65</td>\n",
       "      <td>39.81</td>\n",
       "      <td>39.06</td>\n",
       "      <td>30.07</td>\n",
       "      <td>56.94</td>\n",
       "      <td>female</td>\n",
       "    </tr>\n",
       "  </tbody>\n",
       "</table>\n",
       "<p>1 rows × 22 columns</p>\n",
       "</div>"
      ],
      "text/plain": [
       "   weight_kg  stature_cm  neck_base_girth  chest_girth  waist_girth  \\\n",
       "0      81.85      164.05            40.94       112.21        98.48   \n",
       "\n",
       "   hips_buttock_girth  shoulder_girth  thigh_girth  thigh_low_girth  \\\n",
       "0              103.42          113.17        62.15            41.15   \n",
       "\n",
       "   calf_girth  ...  wrist_girth  shoulder_length  sleeveoutseam_length  \\\n",
       "0       39.01  ...        16.44            12.44                 57.24   \n",
       "\n",
       "   forearm_length  crotchheight_length  waistback_length  thigh_length  \\\n",
       "0           24.44                75.65             39.81         39.06   \n",
       "\n",
       "   chest_depth_length  head_girth  gender  \n",
       "0               30.07       56.94  female  \n",
       "\n",
       "[1 rows x 22 columns]"
      ]
     },
     "execution_count": 38,
     "metadata": {},
     "output_type": "execute_result"
    }
   ],
   "source": [
    "test_csv = pd.read_csv('../../data/input_files/test.csv',index_col=0)\n",
    "test_csv"
   ]
  }
 ],
 "metadata": {
  "kernelspec": {
   "display_name": "env",
   "language": "python",
   "name": "python3"
  },
  "language_info": {
   "codemirror_mode": {
    "name": "ipython",
    "version": 3
   },
   "file_extension": ".py",
   "mimetype": "text/x-python",
   "name": "python",
   "nbconvert_exporter": "python",
   "pygments_lexer": "ipython3",
   "version": "3.10.12"
  }
 },
 "nbformat": 4,
 "nbformat_minor": 2
}
